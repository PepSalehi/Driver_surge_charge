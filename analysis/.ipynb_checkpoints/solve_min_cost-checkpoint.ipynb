{
 "cells": [
  {
   "cell_type": "code",
   "execution_count": 3,
   "metadata": {},
   "outputs": [],
   "source": [
    "from gurobipy import * \n",
    "import pandas as pd \n",
    "import numpy as np\n",
    "import matplotlib.pyplot as plt\n",
    "import copy\n",
    "import geopandas as gpd \n",
    "%matplotlib inline "
   ]
  },
  {
   "cell_type": "code",
   "execution_count": null,
   "metadata": {},
   "outputs": [],
   "source": []
  },
  {
   "cell_type": "markdown",
   "metadata": {},
   "source": [
    "# Zones"
   ]
  },
  {
   "cell_type": "code",
   "execution_count": 16,
   "metadata": {},
   "outputs": [
    {
     "data": {
      "text/plain": [
       "array([  4,  12,  13,  24,  41,  42,  43,  45,  48,  50,  68,  74,  75,\n",
       "        79,  87,  88,  90, 100, 107, 113, 114, 116, 120, 125, 127, 128,\n",
       "       137, 140, 141, 142, 143, 144, 148, 151, 152, 158, 161, 162, 163,\n",
       "       164, 166, 170, 186, 194, 209, 211, 224, 229, 230, 231, 232, 233,\n",
       "       234, 236, 237, 238, 239, 243, 244, 246, 249, 261, 262, 263])"
      ]
     },
     "execution_count": 16,
     "metadata": {},
     "output_type": "execute_result"
    }
   ],
   "source": [
    "zone_ids_file = pd.read_csv(\"/Users/peyman/Dropbox (MIT)/Projects/RL_ridehailing/env/Data/zones_w_neighbors.csv\")\n",
    "zone_ids = zone_ids_file.LocationID.values\n",
    "zone_ids"
   ]
  },
  {
   "cell_type": "markdown",
   "metadata": {},
   "source": [
    "# Read OD "
   ]
  },
  {
   "cell_type": "markdown",
   "metadata": {},
   "source": [
    "## Select t "
   ]
  },
  {
   "cell_type": "code",
   "execution_count": 17,
   "metadata": {},
   "outputs": [
    {
     "data": {
      "text/plain": [
       "(197746, 10)"
      ]
     },
     "execution_count": 17,
     "metadata": {},
     "output_type": "execute_result"
    }
   ],
   "source": [
    "demand = pd.read_csv(\"/Users/peyman/Dropbox (MIT)/Projects/RL_ridehailing/env/Data/Daily_demand/demand_for_day_2.csv\")\n",
    "demand.shape"
   ]
  },
  {
   "cell_type": "code",
   "execution_count": 18,
   "metadata": {},
   "outputs": [],
   "source": [
    "t = 50"
   ]
  },
  {
   "cell_type": "code",
   "execution_count": 20,
   "metadata": {},
   "outputs": [
    {
     "data": {
      "text/plain": [
       "(2649, 10)"
      ]
     },
     "execution_count": 20,
     "metadata": {},
     "output_type": "execute_result"
    }
   ],
   "source": [
    "od_t = demand[demand.time_of_day_index_15m == 40]\n",
    "od_t.shape"
   ]
  },
  {
   "cell_type": "code",
   "execution_count": 21,
   "metadata": {},
   "outputs": [
    {
     "data": {
      "text/html": [
       "<div>\n",
       "<style scoped>\n",
       "    .dataframe tbody tr th:only-of-type {\n",
       "        vertical-align: middle;\n",
       "    }\n",
       "\n",
       "    .dataframe tbody tr th {\n",
       "        vertical-align: top;\n",
       "    }\n",
       "\n",
       "    .dataframe thead th {\n",
       "        text-align: right;\n",
       "    }\n",
       "</style>\n",
       "<table border=\"1\" class=\"dataframe\">\n",
       "  <thead>\n",
       "    <tr style=\"text-align: right;\">\n",
       "      <th></th>\n",
       "      <th>tpep_dropoff_datetime</th>\n",
       "      <th>passenger_count</th>\n",
       "      <th>trip_distance</th>\n",
       "      <th>PULocationID</th>\n",
       "      <th>DOLocationID</th>\n",
       "      <th>fare_amount</th>\n",
       "      <th>trip_distance_meter</th>\n",
       "      <th>Hour</th>\n",
       "      <th>Day</th>\n",
       "      <th>time_of_day_index_15m</th>\n",
       "    </tr>\n",
       "  </thead>\n",
       "  <tbody>\n",
       "    <tr>\n",
       "      <th>34473</th>\n",
       "      <td>2018-01-02 10:10:23</td>\n",
       "      <td>6</td>\n",
       "      <td>1.68</td>\n",
       "      <td>90</td>\n",
       "      <td>114</td>\n",
       "      <td>8.5</td>\n",
       "      <td>2704.0</td>\n",
       "      <td>10</td>\n",
       "      <td>2</td>\n",
       "      <td>40</td>\n",
       "    </tr>\n",
       "    <tr>\n",
       "      <th>34585</th>\n",
       "      <td>2018-01-02 10:23:14</td>\n",
       "      <td>1</td>\n",
       "      <td>1.56</td>\n",
       "      <td>231</td>\n",
       "      <td>148</td>\n",
       "      <td>14.5</td>\n",
       "      <td>2511.0</td>\n",
       "      <td>10</td>\n",
       "      <td>2</td>\n",
       "      <td>40</td>\n",
       "    </tr>\n",
       "    <tr>\n",
       "      <th>34826</th>\n",
       "      <td>2018-01-02 10:12:41</td>\n",
       "      <td>1</td>\n",
       "      <td>1.73</td>\n",
       "      <td>161</td>\n",
       "      <td>90</td>\n",
       "      <td>9.5</td>\n",
       "      <td>2785.0</td>\n",
       "      <td>10</td>\n",
       "      <td>2</td>\n",
       "      <td>40</td>\n",
       "    </tr>\n",
       "    <tr>\n",
       "      <th>34886</th>\n",
       "      <td>2018-01-02 10:10:09</td>\n",
       "      <td>1</td>\n",
       "      <td>1.45</td>\n",
       "      <td>161</td>\n",
       "      <td>234</td>\n",
       "      <td>8.0</td>\n",
       "      <td>2334.0</td>\n",
       "      <td>10</td>\n",
       "      <td>2</td>\n",
       "      <td>40</td>\n",
       "    </tr>\n",
       "    <tr>\n",
       "      <th>35414</th>\n",
       "      <td>2018-01-02 10:06:08</td>\n",
       "      <td>1</td>\n",
       "      <td>1.43</td>\n",
       "      <td>238</td>\n",
       "      <td>236</td>\n",
       "      <td>6.5</td>\n",
       "      <td>2302.0</td>\n",
       "      <td>10</td>\n",
       "      <td>2</td>\n",
       "      <td>40</td>\n",
       "    </tr>\n",
       "  </tbody>\n",
       "</table>\n",
       "</div>"
      ],
      "text/plain": [
       "      tpep_dropoff_datetime  passenger_count  trip_distance  PULocationID  \\\n",
       "34473   2018-01-02 10:10:23                6           1.68            90   \n",
       "34585   2018-01-02 10:23:14                1           1.56           231   \n",
       "34826   2018-01-02 10:12:41                1           1.73           161   \n",
       "34886   2018-01-02 10:10:09                1           1.45           161   \n",
       "35414   2018-01-02 10:06:08                1           1.43           238   \n",
       "\n",
       "       DOLocationID  fare_amount  trip_distance_meter  Hour  Day  \\\n",
       "34473           114          8.5               2704.0    10    2   \n",
       "34585           148         14.5               2511.0    10    2   \n",
       "34826            90          9.5               2785.0    10    2   \n",
       "34886           234          8.0               2334.0    10    2   \n",
       "35414           236          6.5               2302.0    10    2   \n",
       "\n",
       "       time_of_day_index_15m  \n",
       "34473                     40  \n",
       "34585                     40  \n",
       "34826                     40  \n",
       "34886                     40  \n",
       "35414                     40  "
      ]
     },
     "execution_count": 21,
     "metadata": {},
     "output_type": "execute_result"
    }
   ],
   "source": [
    "od_t.head()"
   ]
  },
  {
   "cell_type": "markdown",
   "metadata": {},
   "source": [
    "# Read or generate vehicle locations (at time t)"
   ]
  },
  {
   "cell_type": "code",
   "execution_count": null,
   "metadata": {},
   "outputs": [],
   "source": []
  },
  {
   "cell_type": "code",
   "execution_count": null,
   "metadata": {},
   "outputs": [],
   "source": []
  },
  {
   "cell_type": "code",
   "execution_count": null,
   "metadata": {},
   "outputs": [],
   "source": []
  },
  {
   "cell_type": "markdown",
   "metadata": {},
   "source": [
    "# Read network's setup (e.g., travel time/cost)"
   ]
  },
  {
   "cell_type": "code",
   "execution_count": 6,
   "metadata": {},
   "outputs": [],
   "source": [
    "dist_mat = pd.read_csv('/Users/peyman/Dropbox (MIT)/Projects/RL_ridehailing/env/Data/dist_mat_2.csv')"
   ]
  },
  {
   "cell_type": "code",
   "execution_count": 8,
   "metadata": {
    "scrolled": true
   },
   "outputs": [
    {
     "data": {
      "text/html": [
       "<div>\n",
       "<style scoped>\n",
       "    .dataframe tbody tr th:only-of-type {\n",
       "        vertical-align: middle;\n",
       "    }\n",
       "\n",
       "    .dataframe tbody tr th {\n",
       "        vertical-align: top;\n",
       "    }\n",
       "\n",
       "    .dataframe thead th {\n",
       "        text-align: right;\n",
       "    }\n",
       "</style>\n",
       "<table border=\"1\" class=\"dataframe\">\n",
       "  <thead>\n",
       "    <tr style=\"text-align: right;\">\n",
       "      <th></th>\n",
       "      <th>PULocationID</th>\n",
       "      <th>DOLocationID</th>\n",
       "      <th>trip_distance_meter</th>\n",
       "    </tr>\n",
       "  </thead>\n",
       "  <tbody>\n",
       "    <tr>\n",
       "      <th>0</th>\n",
       "      <td>4</td>\n",
       "      <td>4</td>\n",
       "      <td>1124.0</td>\n",
       "    </tr>\n",
       "    <tr>\n",
       "      <th>1</th>\n",
       "      <td>4</td>\n",
       "      <td>12</td>\n",
       "      <td>5802.0</td>\n",
       "    </tr>\n",
       "    <tr>\n",
       "      <th>2</th>\n",
       "      <td>4</td>\n",
       "      <td>13</td>\n",
       "      <td>6471.0</td>\n",
       "    </tr>\n",
       "    <tr>\n",
       "      <th>3</th>\n",
       "      <td>4</td>\n",
       "      <td>24</td>\n",
       "      <td>11505.0</td>\n",
       "    </tr>\n",
       "    <tr>\n",
       "      <th>4</th>\n",
       "      <td>4</td>\n",
       "      <td>41</td>\n",
       "      <td>11405.0</td>\n",
       "    </tr>\n",
       "  </tbody>\n",
       "</table>\n",
       "</div>"
      ],
      "text/plain": [
       "   PULocationID  DOLocationID  trip_distance_meter\n",
       "0             4             4               1124.0\n",
       "1             4            12               5802.0\n",
       "2             4            13               6471.0\n",
       "3             4            24              11505.0\n",
       "4             4            41              11405.0"
      ]
     },
     "execution_count": 8,
     "metadata": {},
     "output_type": "execute_result"
    }
   ],
   "source": [
    "dist_mat.head()"
   ]
  },
  {
   "cell_type": "code",
   "execution_count": null,
   "metadata": {},
   "outputs": [],
   "source": []
  },
  {
   "cell_type": "code",
   "execution_count": null,
   "metadata": {},
   "outputs": [],
   "source": []
  },
  {
   "cell_type": "code",
   "execution_count": null,
   "metadata": {},
   "outputs": [],
   "source": []
  },
  {
   "cell_type": "code",
   "execution_count": null,
   "metadata": {},
   "outputs": [],
   "source": []
  },
  {
   "cell_type": "code",
   "execution_count": null,
   "metadata": {},
   "outputs": [],
   "source": []
  }
 ],
 "metadata": {
  "kernelspec": {
   "display_name": "Python 3",
   "language": "python",
   "name": "python3"
  },
  "language_info": {
   "codemirror_mode": {
    "name": "ipython",
    "version": 3
   },
   "file_extension": ".py",
   "mimetype": "text/x-python",
   "name": "python",
   "nbconvert_exporter": "python",
   "pygments_lexer": "ipython3",
   "version": "3.6.7"
  }
 },
 "nbformat": 4,
 "nbformat_minor": 4
}
