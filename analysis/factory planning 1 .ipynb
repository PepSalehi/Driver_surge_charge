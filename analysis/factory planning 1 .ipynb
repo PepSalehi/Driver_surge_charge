{
 "cells": [
  {
   "cell_type": "code",
   "execution_count": 1,
   "metadata": {},
   "outputs": [],
   "source": [
    "from gurobipy import * \n",
    "import pandas as pd \n",
    "import numpy as np\n",
    "import matplotlib.pyplot as plt\n",
    "import copy\n",
    "import geopandas as gpd \n",
    "%matplotlib inline "
   ]
  },
  {
   "cell_type": "code",
   "execution_count": 2,
   "metadata": {},
   "outputs": [],
   "source": [
    "products = [\"Prod1\", \"Prod2\", \"Prod3\", \"Prod4\", \"Prod5\", \"Prod6\", \"Prod7\"]\n",
    "machines = [\"grinder\", \"vertDrill\", \"horiDrill\", \"borer\", \"planer\"]\n",
    "time_periods = [\"January\", \"February\", \"March\", \"April\", \"May\", \"June\"]"
   ]
  },
  {
   "cell_type": "code",
   "execution_count": 3,
   "metadata": {},
   "outputs": [],
   "source": [
    "profit_contribution = {\"Prod1\":10, \"Prod2\":6, \"Prod3\":8, \"Prod4\":4, \"Prod5\":11, \"Prod6\":9, \"Prod7\":3}"
   ]
  },
  {
   "cell_type": "code",
   "execution_count": 4,
   "metadata": {},
   "outputs": [],
   "source": [
    "time_table = {\n",
    "    \"grinder\": {    \"Prod1\": 0.5, \"Prod2\": 0.7, \"Prod5\": 0.3,\n",
    "                    \"Prod6\": 0.2, \"Prod7\": 0.5 },\n",
    "    \"vertDrill\": {  \"Prod1\": 0.1, \"Prod2\": 0.2, \"Prod4\": 0.3,\n",
    "                    \"Prod6\": 0.6 },\n",
    "    \"horiDrill\": {  \"Prod1\": 0.2, \"Prod3\": 0.8, \"Prod7\": 0.6 },\n",
    "    \"borer\": {      \"Prod1\": 0.05,\"Prod2\": 0.03,\"Prod4\": 0.07,\n",
    "                    \"Prod5\": 0.1, \"Prod7\": 0.08 },\n",
    "    \"planer\": {     \"Prod3\": 0.01,\"Prod5\": 0.05,\"Prod7\": 0.05 }\n",
    "}"
   ]
  },
  {
   "cell_type": "code",
   "execution_count": 5,
   "metadata": {},
   "outputs": [],
   "source": [
    "# number of machines down\n",
    "down = {(\"January\",\"grinder\"): 1, (\"February\", \"horiDrill\"): 2, (\"March\", \"borer\"): 1,\n",
    "        (\"April\", \"vertDrill\"): 1, (\"May\", \"grinder\"): 1, (\"May\", \"vertDrill\"): 1,\n",
    "        (\"June\", \"planer\"): 1, (\"June\", \"horiDrill\"): 1}"
   ]
  },
  {
   "cell_type": "code",
   "execution_count": 6,
   "metadata": {},
   "outputs": [],
   "source": [
    "# number of each machine available\n",
    "qMachine = {\"grinder\":4, \"vertDrill\":2, \"horiDrill\":3, \"borer\":1, \"planer\":1} "
   ]
  },
  {
   "cell_type": "code",
   "execution_count": 7,
   "metadata": {},
   "outputs": [],
   "source": [
    "# market limitation of sells\n",
    "upper = {\n",
    "    (\"January\", \"Prod1\") : 500,\n",
    "    (\"January\", \"Prod2\") : 1000,\n",
    "    (\"January\", \"Prod3\") : 300,\n",
    "    (\"January\", \"Prod4\") : 300,\n",
    "    (\"January\", \"Prod5\") : 800,\n",
    "    (\"January\", \"Prod6\") : 200,\n",
    "    (\"January\", \"Prod7\") : 100,\n",
    "    (\"February\", \"Prod1\") : 600,\n",
    "    (\"February\", \"Prod2\") : 500,\n",
    "    (\"February\", \"Prod3\") : 200,\n",
    "    (\"February\", \"Prod4\") : 0,\n",
    "    (\"February\", \"Prod5\") : 400,\n",
    "    (\"February\", \"Prod6\") : 300,\n",
    "    (\"February\", \"Prod7\") : 150,\n",
    "    (\"March\", \"Prod1\") : 300,\n",
    "    (\"March\", \"Prod2\") : 600,\n",
    "    (\"March\", \"Prod3\") : 0,\n",
    "    (\"March\", \"Prod4\") : 0,\n",
    "    (\"March\", \"Prod5\") : 500,\n",
    "    (\"March\", \"Prod6\") : 400,\n",
    "    (\"March\", \"Prod7\") : 100,\n",
    "    (\"April\", \"Prod1\") : 200,\n",
    "    (\"April\", \"Prod2\") : 300,\n",
    "    (\"April\", \"Prod3\") : 400,\n",
    "    (\"April\", \"Prod4\") : 500,\n",
    "    (\"April\", \"Prod5\") : 200,\n",
    "    (\"April\", \"Prod6\") : 0,\n",
    "    (\"April\", \"Prod7\") : 100,\n",
    "    (\"May\", \"Prod1\") : 0,\n",
    "    (\"May\", \"Prod2\") : 100,\n",
    "    (\"May\", \"Prod3\") : 500,\n",
    "    (\"May\", \"Prod4\") : 100,\n",
    "    (\"May\", \"Prod5\") : 1000,\n",
    "    (\"May\", \"Prod6\") : 300,\n",
    "    (\"May\", \"Prod7\") : 0,\n",
    "    (\"June\", \"Prod1\") : 500,\n",
    "    (\"June\", \"Prod2\") : 500,\n",
    "    (\"June\", \"Prod3\") : 100,\n",
    "    (\"June\", \"Prod4\") : 300,\n",
    "    (\"June\", \"Prod5\") : 1100,\n",
    "    (\"June\", \"Prod6\") : 500,\n",
    "    (\"June\", \"Prod7\") : 60,\n",
    "}"
   ]
  },
  {
   "cell_type": "code",
   "execution_count": 8,
   "metadata": {},
   "outputs": [],
   "source": [
    "storeCost = 0.5\n",
    "storeCapacity = 100\n",
    "endStock = 50\n",
    "hoursPerMonth = 2*8*24"
   ]
  },
  {
   "cell_type": "code",
   "execution_count": 9,
   "metadata": {},
   "outputs": [
    {
     "name": "stdout",
     "output_type": "stream",
     "text": [
      "Using license file /Users/peyman/gurobi.lic\n",
      "Academic license - for non-commercial use only\n"
     ]
    }
   ],
   "source": [
    "model = Model('Factory Planning I')\n"
   ]
  },
  {
   "cell_type": "code",
   "execution_count": 10,
   "metadata": {},
   "outputs": [],
   "source": [
    "manu = model.addVars(time_periods, products, name=\"Manu\") # quantity manufactured\n",
    "held = model.addVars(time_periods, products, ub=storeCapacity, name=\"Held\") # quantity stored\n",
    "sell = model.addVars(time_periods, products, ub=upper, name=\"Sell\") # quantity sold"
   ]
  },
  {
   "cell_type": "code",
   "execution_count": 23,
   "metadata": {},
   "outputs": [
    {
     "data": {
      "text/plain": [
       "<gurobi.Var Manu[January,Prod1] (value 500.0)>"
      ]
     },
     "execution_count": 23,
     "metadata": {},
     "output_type": "execute_result"
    }
   ],
   "source": [
    "manu['January', 'Prod1']"
   ]
  },
  {
   "cell_type": "code",
   "execution_count": 11,
   "metadata": {},
   "outputs": [
    {
     "data": {
      "text/plain": [
       "{'Prod1': <gurobi.Constr *Awaiting Model Update*>,\n",
       " 'Prod2': <gurobi.Constr *Awaiting Model Update*>,\n",
       " 'Prod3': <gurobi.Constr *Awaiting Model Update*>,\n",
       " 'Prod4': <gurobi.Constr *Awaiting Model Update*>,\n",
       " 'Prod5': <gurobi.Constr *Awaiting Model Update*>,\n",
       " 'Prod6': <gurobi.Constr *Awaiting Model Update*>,\n",
       " 'Prod7': <gurobi.Constr *Awaiting Model Update*>}"
      ]
     },
     "execution_count": 11,
     "metadata": {},
     "output_type": "execute_result"
    }
   ],
   "source": [
    "# Initial Balance\n",
    "model.addConstrs((manu[time_periods[0], product] == sell[time_periods[0], product] \n",
    "                  + held[time_periods[0], product] for product in products), name=\"Initial_Balance\")"
   ]
  },
  {
   "cell_type": "markdown",
   "metadata": {},
   "source": [
    "Interesting technique to get the last time index"
   ]
  },
  {
   "cell_type": "code",
   "execution_count": 12,
   "metadata": {
    "scrolled": true
   },
   "outputs": [
    {
     "data": {
      "text/plain": [
       "{('Prod1', 'February'): <gurobi.Constr *Awaiting Model Update*>,\n",
       " ('Prod1', 'March'): <gurobi.Constr *Awaiting Model Update*>,\n",
       " ('Prod1', 'April'): <gurobi.Constr *Awaiting Model Update*>,\n",
       " ('Prod1', 'May'): <gurobi.Constr *Awaiting Model Update*>,\n",
       " ('Prod1', 'June'): <gurobi.Constr *Awaiting Model Update*>,\n",
       " ('Prod2', 'February'): <gurobi.Constr *Awaiting Model Update*>,\n",
       " ('Prod2', 'March'): <gurobi.Constr *Awaiting Model Update*>,\n",
       " ('Prod2', 'April'): <gurobi.Constr *Awaiting Model Update*>,\n",
       " ('Prod2', 'May'): <gurobi.Constr *Awaiting Model Update*>,\n",
       " ('Prod2', 'June'): <gurobi.Constr *Awaiting Model Update*>,\n",
       " ('Prod3', 'February'): <gurobi.Constr *Awaiting Model Update*>,\n",
       " ('Prod3', 'March'): <gurobi.Constr *Awaiting Model Update*>,\n",
       " ('Prod3', 'April'): <gurobi.Constr *Awaiting Model Update*>,\n",
       " ('Prod3', 'May'): <gurobi.Constr *Awaiting Model Update*>,\n",
       " ('Prod3', 'June'): <gurobi.Constr *Awaiting Model Update*>,\n",
       " ('Prod4', 'February'): <gurobi.Constr *Awaiting Model Update*>,\n",
       " ('Prod4', 'March'): <gurobi.Constr *Awaiting Model Update*>,\n",
       " ('Prod4', 'April'): <gurobi.Constr *Awaiting Model Update*>,\n",
       " ('Prod4', 'May'): <gurobi.Constr *Awaiting Model Update*>,\n",
       " ('Prod4', 'June'): <gurobi.Constr *Awaiting Model Update*>,\n",
       " ('Prod5', 'February'): <gurobi.Constr *Awaiting Model Update*>,\n",
       " ('Prod5', 'March'): <gurobi.Constr *Awaiting Model Update*>,\n",
       " ('Prod5', 'April'): <gurobi.Constr *Awaiting Model Update*>,\n",
       " ('Prod5', 'May'): <gurobi.Constr *Awaiting Model Update*>,\n",
       " ('Prod5', 'June'): <gurobi.Constr *Awaiting Model Update*>,\n",
       " ('Prod6', 'February'): <gurobi.Constr *Awaiting Model Update*>,\n",
       " ('Prod6', 'March'): <gurobi.Constr *Awaiting Model Update*>,\n",
       " ('Prod6', 'April'): <gurobi.Constr *Awaiting Model Update*>,\n",
       " ('Prod6', 'May'): <gurobi.Constr *Awaiting Model Update*>,\n",
       " ('Prod6', 'June'): <gurobi.Constr *Awaiting Model Update*>,\n",
       " ('Prod7', 'February'): <gurobi.Constr *Awaiting Model Update*>,\n",
       " ('Prod7', 'March'): <gurobi.Constr *Awaiting Model Update*>,\n",
       " ('Prod7', 'April'): <gurobi.Constr *Awaiting Model Update*>,\n",
       " ('Prod7', 'May'): <gurobi.Constr *Awaiting Model Update*>,\n",
       " ('Prod7', 'June'): <gurobi.Constr *Awaiting Model Update*>}"
      ]
     },
     "execution_count": 12,
     "metadata": {},
     "output_type": "execute_result"
    }
   ],
   "source": [
    "#Balance\n",
    "model.addConstrs((held[time_periods[time_periods.index(time_period) -1], product] + \n",
    "                manu[time_period, product] == sell[time_period, product] + held[time_period, product] \n",
    "                for product in products for time_period in time_periods \n",
    "                if time_period != time_periods[0]), name=\"Balance\")"
   ]
  },
  {
   "cell_type": "code",
   "execution_count": 13,
   "metadata": {},
   "outputs": [
    {
     "data": {
      "text/plain": [
       "{'Prod1': <gurobi.Constr *Awaiting Model Update*>,\n",
       " 'Prod2': <gurobi.Constr *Awaiting Model Update*>,\n",
       " 'Prod3': <gurobi.Constr *Awaiting Model Update*>,\n",
       " 'Prod4': <gurobi.Constr *Awaiting Model Update*>,\n",
       " 'Prod5': <gurobi.Constr *Awaiting Model Update*>,\n",
       " 'Prod6': <gurobi.Constr *Awaiting Model Update*>,\n",
       " 'Prod7': <gurobi.Constr *Awaiting Model Update*>}"
      ]
     },
     "execution_count": 13,
     "metadata": {},
     "output_type": "execute_result"
    }
   ],
   "source": [
    "#End store\n",
    "model.addConstrs((held[time_periods[-1], product] == endStock for product in products),  name=\"End_Balance\")"
   ]
  },
  {
   "cell_type": "code",
   "execution_count": 14,
   "metadata": {},
   "outputs": [
    {
     "data": {
      "text/plain": [
       "{('grinder', 'January'): <gurobi.Constr *Awaiting Model Update*>,\n",
       " ('grinder', 'May'): <gurobi.Constr *Awaiting Model Update*>,\n",
       " ('vertDrill', 'April'): <gurobi.Constr *Awaiting Model Update*>,\n",
       " ('vertDrill', 'May'): <gurobi.Constr *Awaiting Model Update*>,\n",
       " ('horiDrill', 'February'): <gurobi.Constr *Awaiting Model Update*>,\n",
       " ('horiDrill', 'June'): <gurobi.Constr *Awaiting Model Update*>,\n",
       " ('borer', 'March'): <gurobi.Constr *Awaiting Model Update*>,\n",
       " ('planer', 'June'): <gurobi.Constr *Awaiting Model Update*>}"
      ]
     },
     "execution_count": 14,
     "metadata": {},
     "output_type": "execute_result"
    }
   ],
   "source": [
    "# Capacity\n",
    "model.addConstrs((quicksum(time_table[machine][product] * manu[time_period, product] \n",
    "\tfor product in time_table[machine]) <= hoursPerMonth * (qMachine[machine] - \n",
    "\tdown[time_period, machine]) for machine in machines for time_period in time_periods \n",
    "\tif (time_period, machine) in down), name = \"Capacity\")"
   ]
  },
  {
   "cell_type": "code",
   "execution_count": 24,
   "metadata": {},
   "outputs": [
    {
     "data": {
      "text/plain": [
       "{('grinder', 'February'): <gurobi.Constr *Awaiting Model Update*>,\n",
       " ('grinder', 'March'): <gurobi.Constr *Awaiting Model Update*>,\n",
       " ('grinder', 'April'): <gurobi.Constr *Awaiting Model Update*>,\n",
       " ('grinder', 'June'): <gurobi.Constr *Awaiting Model Update*>,\n",
       " ('vertDrill', 'January'): <gurobi.Constr *Awaiting Model Update*>,\n",
       " ('vertDrill', 'February'): <gurobi.Constr *Awaiting Model Update*>,\n",
       " ('vertDrill', 'March'): <gurobi.Constr *Awaiting Model Update*>,\n",
       " ('vertDrill', 'June'): <gurobi.Constr *Awaiting Model Update*>,\n",
       " ('horiDrill', 'January'): <gurobi.Constr *Awaiting Model Update*>,\n",
       " ('horiDrill', 'March'): <gurobi.Constr *Awaiting Model Update*>,\n",
       " ('horiDrill', 'April'): <gurobi.Constr *Awaiting Model Update*>,\n",
       " ('horiDrill', 'May'): <gurobi.Constr *Awaiting Model Update*>,\n",
       " ('borer', 'January'): <gurobi.Constr *Awaiting Model Update*>,\n",
       " ('borer', 'February'): <gurobi.Constr *Awaiting Model Update*>,\n",
       " ('borer', 'April'): <gurobi.Constr *Awaiting Model Update*>,\n",
       " ('borer', 'May'): <gurobi.Constr *Awaiting Model Update*>,\n",
       " ('borer', 'June'): <gurobi.Constr *Awaiting Model Update*>,\n",
       " ('planer', 'January'): <gurobi.Constr *Awaiting Model Update*>,\n",
       " ('planer', 'February'): <gurobi.Constr *Awaiting Model Update*>,\n",
       " ('planer', 'March'): <gurobi.Constr *Awaiting Model Update*>,\n",
       " ('planer', 'April'): <gurobi.Constr *Awaiting Model Update*>,\n",
       " ('planer', 'May'): <gurobi.Constr *Awaiting Model Update*>}"
      ]
     },
     "execution_count": 24,
     "metadata": {},
     "output_type": "execute_result"
    }
   ],
   "source": [
    "model.addConstrs((quicksum(time_table[machine][product] * manu[time_period, product] \n",
    "\tfor product in time_table[machine]) <= hoursPerMonth * qMachine[machine] \n",
    "    for machine in machines for time_period in time_periods \n",
    "    if (time_period, machine) not in down), name = \"Capacity\")"
   ]
  },
  {
   "cell_type": "code",
   "execution_count": 25,
   "metadata": {},
   "outputs": [],
   "source": [
    "# Objective\n",
    "obj = quicksum(\n",
    "\t  profit_contribution[product] * sell[time_period, product] -  \n",
    "\t  storeCost * held[time_period, product]  \n",
    "\t  for time_period in time_periods for product in products)"
   ]
  },
  {
   "cell_type": "code",
   "execution_count": 26,
   "metadata": {},
   "outputs": [],
   "source": [
    "model.setObjective(obj, GRB.MAXIMIZE)"
   ]
  },
  {
   "cell_type": "code",
   "execution_count": 27,
   "metadata": {},
   "outputs": [
    {
     "name": "stdout",
     "output_type": "stream",
     "text": [
      "Gurobi Optimizer version 9.0.2 build v9.0.2rc0 (mac64)\n",
      "Optimize a model with 101 rows, 126 columns and 376 nonzeros\n",
      "Coefficient statistics:\n",
      "  Matrix range     [1e-02, 1e+00]\n",
      "  Objective range  [5e-01, 1e+01]\n",
      "  Bounds range     [6e+01, 1e+03]\n",
      "  RHS range        [5e+01, 2e+03]\n",
      "Iteration    Objective       Primal Inf.    Dual Inf.      Time\n",
      "       0    9.3715179e+04   0.000000e+00   0.000000e+00      0s\n",
      "\n",
      "Solved in 0 iterations and 0.01 seconds\n",
      "Optimal objective  9.371517857e+04\n"
     ]
    }
   ],
   "source": [
    "model.optimize()"
   ]
  },
  {
   "cell_type": "code",
   "execution_count": 28,
   "metadata": {},
   "outputs": [
    {
     "name": "stdout",
     "output_type": "stream",
     "text": [
      "Manu[January,Prod1] 500.000000\n",
      "Manu[January,Prod2] 888.571429\n",
      "Manu[January,Prod3] 382.500000\n",
      "Manu[January,Prod4] 300.000000\n",
      "Manu[January,Prod5] 800.000000\n",
      "Manu[January,Prod6] 200.000000\n",
      "Manu[February,Prod1] 700.000000\n",
      "Manu[February,Prod2] 600.000000\n",
      "Manu[February,Prod3] 117.500000\n",
      "Manu[February,Prod5] 500.000000\n",
      "Manu[February,Prod6] 300.000000\n",
      "Manu[February,Prod7] 250.000000\n",
      "Manu[March,Prod6] 400.000000\n",
      "Manu[April,Prod1] 200.000000\n",
      "Manu[April,Prod2] 300.000000\n",
      "Manu[April,Prod3] 400.000000\n",
      "Manu[April,Prod4] 500.000000\n",
      "Manu[April,Prod5] 200.000000\n",
      "Manu[April,Prod7] 100.000000\n",
      "Manu[May,Prod2] 100.000000\n",
      "Manu[May,Prod3] 600.000000\n",
      "Manu[May,Prod4] 100.000000\n",
      "Manu[May,Prod5] 1100.000000\n",
      "Manu[May,Prod6] 300.000000\n",
      "Manu[May,Prod7] 100.000000\n",
      "Manu[June,Prod1] 550.000000\n",
      "Manu[June,Prod2] 550.000000\n",
      "Manu[June,Prod4] 350.000000\n",
      "Manu[June,Prod6] 550.000000\n",
      "Held[January,Prod3] 82.500000\n",
      "Held[February,Prod1] 100.000000\n",
      "Held[February,Prod2] 100.000000\n",
      "Held[February,Prod5] 100.000000\n",
      "Held[February,Prod7] 100.000000\n",
      "Held[May,Prod3] 100.000000\n",
      "Held[May,Prod5] 100.000000\n",
      "Held[May,Prod7] 100.000000\n",
      "Held[June,Prod1] 50.000000\n",
      "Held[June,Prod2] 50.000000\n",
      "Held[June,Prod3] 50.000000\n",
      "Held[June,Prod4] 50.000000\n",
      "Held[June,Prod5] 50.000000\n",
      "Held[June,Prod6] 50.000000\n",
      "Held[June,Prod7] 50.000000\n",
      "Sell[January,Prod1] 500.000000\n",
      "Sell[January,Prod2] 888.571429\n",
      "Sell[January,Prod3] 300.000000\n",
      "Sell[January,Prod4] 300.000000\n",
      "Sell[January,Prod5] 800.000000\n",
      "Sell[January,Prod6] 200.000000\n",
      "Sell[February,Prod1] 600.000000\n",
      "Sell[February,Prod2] 500.000000\n",
      "Sell[February,Prod3] 200.000000\n",
      "Sell[February,Prod5] 400.000000\n",
      "Sell[February,Prod6] 300.000000\n",
      "Sell[February,Prod7] 150.000000\n",
      "Sell[March,Prod1] 100.000000\n",
      "Sell[March,Prod2] 100.000000\n",
      "Sell[March,Prod5] 100.000000\n",
      "Sell[March,Prod6] 400.000000\n",
      "Sell[March,Prod7] 100.000000\n",
      "Sell[April,Prod1] 200.000000\n",
      "Sell[April,Prod2] 300.000000\n",
      "Sell[April,Prod3] 400.000000\n",
      "Sell[April,Prod4] 500.000000\n",
      "Sell[April,Prod5] 200.000000\n",
      "Sell[April,Prod7] 100.000000\n",
      "Sell[May,Prod2] 100.000000\n",
      "Sell[May,Prod3] 500.000000\n",
      "Sell[May,Prod4] 100.000000\n",
      "Sell[May,Prod5] 1000.000000\n",
      "Sell[May,Prod6] 300.000000\n",
      "Sell[June,Prod1] 500.000000\n",
      "Sell[June,Prod2] 500.000000\n",
      "Sell[June,Prod3] 50.000000\n",
      "Sell[June,Prod4] 300.000000\n",
      "Sell[June,Prod5] 50.000000\n",
      "Sell[June,Prod6] 500.000000\n",
      "Sell[June,Prod7] 50.000000\n"
     ]
    }
   ],
   "source": [
    "for v in model.getVars():\n",
    "    if v.X != 0:\n",
    "        print(\"%s %f\" % (v.Varname, v.X))"
   ]
  },
  {
   "cell_type": "code",
   "execution_count": null,
   "metadata": {},
   "outputs": [],
   "source": []
  }
 ],
 "metadata": {
  "kernelspec": {
   "display_name": "Python 3",
   "language": "python",
   "name": "python3"
  },
  "language_info": {
   "codemirror_mode": {
    "name": "ipython",
    "version": 3
   },
   "file_extension": ".py",
   "mimetype": "text/x-python",
   "name": "python",
   "nbconvert_exporter": "python",
   "pygments_lexer": "ipython3",
   "version": "3.6.7"
  }
 },
 "nbformat": 4,
 "nbformat_minor": 4
}
